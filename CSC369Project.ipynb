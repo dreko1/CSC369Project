{
  "nbformat": 4,
  "nbformat_minor": 0,
  "metadata": {
    "colab": {
      "name": "CSC369Project.ipynb",
      "provenance": [],
      "collapsed_sections": []
    },
    "kernelspec": {
      "display_name": "Python 3",
      "name": "python3"
    },
    "language_info": {
      "name": "python"
    }
  },
  "cells": [
    {
      "cell_type": "markdown",
      "metadata": {
        "id": "OGW4fWNTvx-g"
      },
      "source": [
        "### **CSC 369 Project: Distributed Password Cracking**\n",
        "\n",
        " Goal: Using Ray create a more efficient system for cracking passwords from a data breach using a list of common passwords."
      ]
    },
    {
      "cell_type": "markdown",
      "metadata": {
        "id": "y5atMeZnqU3q"
      },
      "source": [
        "Run this block to ensure libraries needed are present."
      ]
    },
    {
      "cell_type": "code",
      "metadata": {
        "colab": {
          "base_uri": "https://localhost:8080/"
        },
        "id": "xf6XV0y5h4Yr",
        "outputId": "75df155f-c336-4b36-b48a-9db9de604cb1"
      },
      "source": [
        "!pip install ray\n",
        "!pip install bcrypt"
      ],
      "execution_count": 2,
      "outputs": [
        {
          "output_type": "stream",
          "name": "stdout",
          "text": [
            "Collecting ray\n",
            "  Downloading ray-1.9.0-cp37-cp37m-manylinux2014_x86_64.whl (57.6 MB)\n",
            "\u001b[K     |████████████████████████████████| 57.6 MB 1.5 MB/s \n",
            "\u001b[?25hRequirement already satisfied: msgpack<2.0.0,>=1.0.0 in /usr/local/lib/python3.7/dist-packages (from ray) (1.0.3)\n",
            "Collecting redis>=3.5.0\n",
            "  Downloading redis-4.0.2-py3-none-any.whl (119 kB)\n",
            "\u001b[K     |████████████████████████████████| 119 kB 53.6 MB/s \n",
            "\u001b[?25hRequirement already satisfied: numpy>=1.16 in /usr/local/lib/python3.7/dist-packages (from ray) (1.19.5)\n",
            "Requirement already satisfied: click>=7.0 in /usr/local/lib/python3.7/dist-packages (from ray) (7.1.2)\n",
            "Requirement already satisfied: attrs in /usr/local/lib/python3.7/dist-packages (from ray) (21.2.0)\n",
            "Requirement already satisfied: filelock in /usr/local/lib/python3.7/dist-packages (from ray) (3.4.0)\n",
            "Requirement already satisfied: protobuf>=3.15.3 in /usr/local/lib/python3.7/dist-packages (from ray) (3.17.3)\n",
            "Requirement already satisfied: pyyaml in /usr/local/lib/python3.7/dist-packages (from ray) (3.13)\n",
            "Requirement already satisfied: jsonschema in /usr/local/lib/python3.7/dist-packages (from ray) (2.6.0)\n",
            "Requirement already satisfied: grpcio>=1.28.1 in /usr/local/lib/python3.7/dist-packages (from ray) (1.42.0)\n",
            "Requirement already satisfied: six>=1.5.2 in /usr/local/lib/python3.7/dist-packages (from grpcio>=1.28.1->ray) (1.15.0)\n",
            "Collecting deprecated\n",
            "  Downloading Deprecated-1.2.13-py2.py3-none-any.whl (9.6 kB)\n",
            "Requirement already satisfied: wrapt<2,>=1.10 in /usr/local/lib/python3.7/dist-packages (from deprecated->redis>=3.5.0->ray) (1.13.3)\n",
            "Installing collected packages: deprecated, redis, ray\n",
            "Successfully installed deprecated-1.2.13 ray-1.9.0 redis-4.0.2\n",
            "Collecting bcrypt\n",
            "  Downloading bcrypt-3.2.0-cp36-abi3-manylinux2010_x86_64.whl (63 kB)\n",
            "\u001b[K     |████████████████████████████████| 63 kB 2.6 MB/s \n",
            "\u001b[?25hRequirement already satisfied: six>=1.4.1 in /usr/local/lib/python3.7/dist-packages (from bcrypt) (1.15.0)\n",
            "Requirement already satisfied: cffi>=1.1 in /usr/local/lib/python3.7/dist-packages (from bcrypt) (1.15.0)\n",
            "Requirement already satisfied: pycparser in /usr/local/lib/python3.7/dist-packages (from cffi>=1.1->bcrypt) (2.21)\n",
            "Installing collected packages: bcrypt\n",
            "Successfully installed bcrypt-3.2.0\n"
          ]
        }
      ]
    },
    {
      "cell_type": "markdown",
      "metadata": {
        "id": "QWckktryqa_Q"
      },
      "source": [
        "Mount Google Drive (Where the data file is stored)"
      ]
    },
    {
      "cell_type": "code",
      "metadata": {
        "colab": {
          "base_uri": "https://localhost:8080/"
        },
        "id": "ZT4WqmnPcb_i",
        "outputId": "4e048388-fa8d-417d-b529-0cf66cccbb15"
      },
      "source": [
        "from google.colab import drive\n",
        "drive.mount('/content/drive')"
      ],
      "execution_count": 3,
      "outputs": [
        {
          "output_type": "stream",
          "name": "stdout",
          "text": [
            "Mounted at /content/drive\n"
          ]
        }
      ]
    },
    {
      "cell_type": "markdown",
      "metadata": {
        "id": "6-l7CnDGqe5P"
      },
      "source": [
        "Import libraries.  "
      ]
    },
    {
      "cell_type": "code",
      "metadata": {
        "id": "UvUF3DWpMq-j"
      },
      "source": [
        "import time\n",
        "import bcrypt\n",
        "import ray"
      ],
      "execution_count": 4,
      "outputs": []
    },
    {
      "cell_type": "markdown",
      "metadata": {
        "id": "ebZff57iuH5s"
      },
      "source": [
        "Two identical functions, one using the ray remote decorator and one that doesn't."
      ]
    },
    {
      "cell_type": "code",
      "metadata": {
        "id": "xJKgPcY6aKXm"
      },
      "source": [
        "@ray.remote\n",
        "def hash(password):\n",
        "    # generate the salt\n",
        "    salt = bcrypt.gensalt(8)\n",
        "    # hash the password with the given salt\n",
        "    hash = bcrypt.hashpw(password.encode(), salt)\n",
        "    # return a tuple with the hash and the password\n",
        "    return (hash,password)\n",
        "\n",
        "# same logic as above\n",
        "def test_hash(password):\n",
        "    salt = bcrypt.gensalt(8)\n",
        "    hash = bcrypt.hashpw(password.encode(), salt)\n",
        "    return (hash,password)"
      ],
      "execution_count": 5,
      "outputs": []
    },
    {
      "cell_type": "markdown",
      "metadata": {
        "id": "iG4EORKQwZQe"
      },
      "source": [
        "Opens the data file and then creates then hashes each password twice. Goes through once with the assistance of Ray and then does it again sequentially."
      ]
    },
    {
      "cell_type": "code",
      "metadata": {
        "colab": {
          "base_uri": "https://localhost:8080/"
        },
        "id": "Hf7j5CxRgJZj",
        "outputId": "b220aea7-81b9-4e3a-c2dc-1af76b178c28"
      },
      "source": [
        "# open the data file for reading from my google drive\n",
        "password_file = open('/content/drive/My Drive/passwords.txt', 'r') \n",
        "\n",
        "# call just incase ray is already running\n",
        "ray.shutdown()\n",
        "\n",
        "# start up ray\n",
        "ray.init()\n",
        "\n",
        "# list of each line in the data file (each line is a password) (100000 passwords)\n",
        "lines = [i.strip() for i in password_file.readlines()]\n",
        "\n",
        "# start of experiment with Ray\n",
        "# get start time\n",
        "start = time.time()\n",
        "# call the remote function for each line in the dataset\n",
        "futures = [hash.remote(i) for i in lines]\n",
        "# get a list of all of the hashes and their corresponding password\n",
        "hashes = ray.get(futures)\n",
        "# get end time\n",
        "end = time.time()\n",
        "# print out the first 10 results to verify that it worked\n",
        "print(hashes[:10])\n",
        "# print the total time ray took to run\n",
        "print('RAY TIME: ', end-start, ' seconds.')\n",
        "\n",
        "# get start time\n",
        "start = time.time()\n",
        "# calculate all of the hashes sequentially\n",
        "futures = [test_hash(i) for i in lines]\n",
        "# get end time\n",
        "end = time.time()\n",
        "# print out the first 10 results to verify that it worked\n",
        "print(futures[:10])\n",
        "# print the total time it took to run without ray\n",
        "print('NORMAL TIME: ', end-start, ' seconds.')"
      ],
      "execution_count": 6,
      "outputs": [
        {
          "output_type": "stream",
          "name": "stdout",
          "text": [
            "\u001b[2m\u001b[36m(hash pid=371)\u001b[0m \n",
            "\u001b[2m\u001b[36m(hash pid=372)\u001b[0m \n",
            "\u001b[2m\u001b[36m(hash pid=372)\u001b[0m \n"
          ]
        },
        {
          "output_type": "stream",
          "name": "stderr",
          "text": [
            "\u001b[2m\u001b[36m(hash pid=371)\u001b[0m \n"
          ]
        },
        {
          "output_type": "stream",
          "name": "stdout",
          "text": [
            "\u001b[2m\u001b[36m(hash pid=372)\u001b[0m \n",
            "\u001b[2m\u001b[36m(hash pid=371)\u001b[0m \n"
          ]
        },
        {
          "output_type": "stream",
          "name": "stderr",
          "text": [
            "\u001b[2m\u001b[36m(hash pid=372)\u001b[0m \n"
          ]
        },
        {
          "output_type": "stream",
          "name": "stdout",
          "text": [
            "\u001b[2m\u001b[36m(hash pid=371)\u001b[0m \n",
            "\u001b[2m\u001b[36m(hash pid=371)\u001b[0m \n",
            "\u001b[2m\u001b[36m(hash pid=371)\u001b[0m \n",
            "\u001b[2m\u001b[36m(hash pid=372)\u001b[0m \n",
            "\u001b[2m\u001b[36m(hash pid=372)\u001b[0m \n",
            "\u001b[2m\u001b[36m(hash pid=372)\u001b[0m \n",
            "\u001b[2m\u001b[36m(hash pid=371)\u001b[0m \n",
            "\u001b[2m\u001b[36m(hash pid=372)\u001b[0m \n"
          ]
        },
        {
          "output_type": "stream",
          "name": "stderr",
          "text": [
            "\u001b[2m\u001b[36m(hash pid=372)\u001b[0m \n"
          ]
        },
        {
          "output_type": "stream",
          "name": "stdout",
          "text": [
            "\u001b[2m\u001b[36m(hash pid=372)\u001b[0m \n",
            "\u001b[2m\u001b[36m(hash pid=371)\u001b[0m \n",
            "\u001b[2m\u001b[36m(hash pid=371)\u001b[0m \n",
            "\u001b[2m\u001b[36m(hash pid=371)\u001b[0m \n",
            "\u001b[2m\u001b[36m(hash pid=372)\u001b[0m \n",
            "[(b'$2b$08$vZXU2ynDsLKfCR4U4QQNY.Shru8h/3/0ZWv8n0AZm.urRoSVQj45y', '123456'), (b'$2b$08$veCPNpugv3iVKzDtMmrc6OYPVwyr5Nx5MFEtEOWTu2t/1Q.HESt2y', 'password'), (b'$2b$08$qqV1Oz5GKzc/MpooGn4ZwuVS8XbFed03QsQKjMAHni10.mP7Ga7Ci', '12345678'), (b'$2b$08$u9mMcR88j.CYhSJQhE9FeO5j17mtWWcUTXTC.FdzOrOZBydrKFkti', 'qwerty'), (b'$2b$08$/MvV4QsW8Nw0pFDvrg7SYO3XKt.JnnvDoViz7D5DB25MUAAepNjB.', '123456789'), (b'$2b$08$9YvbCeFpxdXMMf.LH1mcBenJ3oGoVq2SGOeV0H3ipZ1cQCx4keQR2', '12345'), (b'$2b$08$c42LXhvtQU4Np9hkr3jRE.9q/L1Dy4uT6FTs16O1HCQJ0kYjTfde6', '1234'), (b'$2b$08$y0JPvYTW4EjlWQriWH8aL..Epqa2LKyDpl/39x3a.32JoY0yc0SZC', '111111'), (b'$2b$08$lCpz.NtBwc2O72WBf4MKUe8XKpv9FMILEbvhMhIpg3ygKb3BApLLu', '1234567'), (b'$2b$08$whucSrC7fst1EAN84nNSfOq2xmHXmf7jL2PtQAHPmRt7GQeqx0GmK', 'dragon')]\n",
            "RAY TIME:  1182.7197754383087  seconds.\n",
            "[(b'$2b$08$ww5KFHHThrAIaKZs1n4tOOEYjojcsHUBcU.fqipxhyAMrD7m18HgC', '123456'), (b'$2b$08$k4TCzWb/KWWPwgudV86aYO65FT7UPWXWZK.OBaa3xyUKt0POVzVNu', 'password'), (b'$2b$08$Ua7X/.gJgN/9s4pzFVaJEe2DDoH6XsB0sSTLz9Umdsc1jEpFRlXJ6', '12345678'), (b'$2b$08$M9cvJG4o.gDYJmIFf2EMlOfIVd6O8yMiFWyGfkksH6CVMJyrqug0i', 'qwerty'), (b'$2b$08$5kjZt8HgyEQoJNRmHuAZYOTR0AM7d6u1piP6Dg4XZs9k5AH01/Zfy', '123456789'), (b'$2b$08$NvMHa4MXhAqOiRpMVpMKdO9aGK7UtQN4jAK5.K58DqBOO3HfQt.hq', '12345'), (b'$2b$08$FjUpAsej0JL52J5b3NFd2uaZsx2A6UcmBF1e4GK5HKTlY1dKStAJC', '1234'), (b'$2b$08$QvbRkA/icD5livel.b8bnuqGE87gvZCayzyxMOZfOkRJXMvx7gO8O', '111111'), (b'$2b$08$NTFw6g.YaPonHjTTvV05POisB470QIXL4WpQAswhLN.uslcHj.7YO', '1234567'), (b'$2b$08$e4bodSermwQTzrAVgpsJGOjuXqFW2BNSfKqwlPdeNEXOa4isbt9l.', 'dragon')]\n",
            "NORMAL TIME:  1885.5031797885895  seconds.\n"
          ]
        }
      ]
    },
    {
      "cell_type": "markdown",
      "metadata": {
        "id": "qhNNhwkfwmQf"
      },
      "source": [
        "Creates a dictionary that contains a mapping from a hash (made by Ray) and then the original value that was put into the hashing function."
      ]
    },
    {
      "cell_type": "code",
      "metadata": {
        "id": "qipPvdeJoWyy",
        "colab": {
          "base_uri": "https://localhost:8080/"
        },
        "outputId": "9236aa8b-eb46-47a3-b9f1-74751e04b92e"
      },
      "source": [
        "# also called rainbow table, stores a mapping from a given hash to the word that created it\n",
        "hash_dict = {}\n",
        "\n",
        "# maps each hash to its corresponding password\n",
        "for hash, password in hashes:\n",
        "  hash_dict[hash] = password\n",
        "\n",
        "# verify thatt a known hash will bring up the password\n",
        "print(hash_dict[b'$2b$08$vZXU2ynDsLKfCR4U4QQNY.Shru8h/3/0ZWv8n0AZm.urRoSVQj45y'])"
      ],
      "execution_count": 8,
      "outputs": [
        {
          "output_type": "stream",
          "name": "stdout",
          "text": [
            "123456\n"
          ]
        }
      ]
    },
    {
      "cell_type": "markdown",
      "metadata": {
        "id": "tXH3sqajwuIW"
      },
      "source": [
        "**How do websites store passwords?**  \n",
        "Normally only a username and the hashed value of a user's password is stored. The website should never store the plaintext password. This is done because if there is a data breach it is impossible to get the original value from a hash. They are one-way functions. However, the main strategy to cracking passwords from a given data breach is to use a 'rainbow table' that contains a mapping from hashes to what created them. This is used with the most common passwords to help attackers find the plaintext version of the hash.    \n",
        "  \n",
        "  Below, is a simple example that shows how easy it is to recover passwords if the website stores the plaintext password. "
      ]
    },
    {
      "cell_type": "code",
      "metadata": {
        "colab": {
          "base_uri": "https://localhost:8080/"
        },
        "id": "UaBshbktgO4W",
        "outputId": "3a4aabe0-f9ca-4b1c-8aec-de2f11e2f59a"
      },
      "source": [
        "import random\n",
        "import string\n",
        "\n",
        "# simple data breach example\n",
        "simple_data_breach = []\n",
        "# arbitrary username length\n",
        "length = 4\n",
        "\n",
        "# create the 'data breach'\n",
        "for i in range(1000000):\n",
        "  simple_data_breach.append((''.join((random.choice(string.ascii_lowercase) for x in range(length))),lines[random.randrange(0,len(lines))]))\n",
        "\n",
        "# see that it simply contains usernames and passwords, no need to use ray\n",
        "print(simple_data_breach[:10])"
      ],
      "execution_count": 23,
      "outputs": [
        {
          "output_type": "stream",
          "name": "stdout",
          "text": [
            "[('yxvo', 'doggy2'), ('difd', 'rattlesn'), ('pyqq', '1232123'), ('dagk', '17031972'), ('hqhj', 'seadoo96'), ('eges', '03031978'), ('dwaa', '198585'), ('xgim', 'westbrom'), ('brhs', 'rezeda'), ('rnwe', '260855')]\n"
          ]
        }
      ]
    },
    {
      "cell_type": "markdown",
      "metadata": {
        "id": "uZ9zO8KRxYWZ"
      },
      "source": [
        "This is a more realistic example of what an attacker would get in a data breach on a website with decent security."
      ]
    },
    {
      "cell_type": "code",
      "metadata": {
        "colab": {
          "base_uri": "https://localhost:8080/"
        },
        "id": "OUm9Ifl2id_X",
        "outputId": "59840132-b692-47f1-ae5f-b7ec3d78edec"
      },
      "source": [
        "# more realistic data breach example\n",
        "data_breach = []\n",
        "# arbitrary username length\n",
        "length = 4\n",
        "\n",
        "# create the 'data breach'\n",
        "for i in range(1000000):\n",
        "  data_breach.append((''.join((random.choice(string.ascii_lowercase) for x in range(length))),hashes[random.randrange(0,len(hashes))][0]))\n",
        "\n",
        "# what we get is a tuple with the username and the hashed password\n",
        "print(data_breach[:10])"
      ],
      "execution_count": 27,
      "outputs": [
        {
          "output_type": "stream",
          "name": "stdout",
          "text": [
            "[('yrem', b'$2b$08$gaJzFoUeDQ5QSR6KG/0/p.xPKtNZadWPleZZb/qVKldrNa7bG0hUe'), ('qije', b'$2b$08$Wvxu.BaQ95OLSYIo8B8GQe4WwwpGEyPiEI1SJ1ydtDcAvkRIQRTj6'), ('jqlp', b'$2b$08$YXBvmf9uCE82aek2ubw54.Z/HM3cSOj0R4uqBVa2hEmZyhGMM2wDi'), ('lxww', b'$2b$08$ht3mnRBuPYSGfqYADqw3sOxbR693Xs23qz6fowhvpTTRtYekecQC6'), ('paic', b'$2b$08$WO7Rqmo73rocBoV/x3S2ouAhnttysZNolbJNUEhj7U/ndValOXul.'), ('ykxs', b'$2b$08$XAc6PyWm9.DbZqvQrse9EeDeSPeGTSmDwm8zs.q0z23wUoOuKDokG'), ('xxto', b'$2b$08$fIaaEn0znljLWMkBlGu5m.SJq/yL7oEJ6po.tBBIlAwcYAl/i73XC'), ('nsua', b'$2b$08$dlSrEReuPtGE9mWvTr/VR.5ADb4cW7Azxp/ZhybxaKc4UrKYF7sFK'), ('vfpe', b'$2b$08$QV1Bnk8iuNLb03e2rGprXeJKP5JS1iCzHjfh71Tpb3xC/kccv/.Nm'), ('slhw', b'$2b$08$5B5Pvl34yK3xQtEKejAPpeJ9NUqLAPdFEOV45bIqLKp.rCFl.F.Ya')]\n"
          ]
        }
      ]
    },
    {
      "cell_type": "markdown",
      "metadata": {
        "id": "FDQDRZLNxd84"
      },
      "source": [
        "Using the rainbow table and the above data breach I was able to demonstrate how to recover plaintext passwords from hashes."
      ]
    },
    {
      "cell_type": "code",
      "metadata": {
        "colab": {
          "base_uri": "https://localhost:8080/"
        },
        "id": "G1RB3_ELsV8o",
        "outputId": "84a6d783-df4d-4633-fbc9-d9ddd30a2581"
      },
      "source": [
        "# used for mapping usernames to cracked passwords\n",
        "cracked_passwords = {}\n",
        "\n",
        "# go through and find the correct mappings\n",
        "for username, hashed_password in data_breach:\n",
        "  cracked_passwords[username] = hash_dict[hashed_password]\n",
        "\n",
        "# see plaintext passwords for some sample users\n",
        "print(cracked_passwords['yrem'])\n",
        "print(cracked_passwords['qije'])\n",
        "print(cracked_passwords['jqlp'])\n",
        "print(cracked_passwords['lxww'])"
      ],
      "execution_count": 32,
      "outputs": [
        {
          "output_type": "stream",
          "name": "stdout",
          "text": [
            "swinger\n",
            "24121968\n",
            "030902\n",
            "qwerty777\n"
          ]
        }
      ]
    }
  ]
}